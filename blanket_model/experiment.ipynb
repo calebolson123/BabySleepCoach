{
 "cells": [
  {
   "cell_type": "code",
   "execution_count": 14,
   "id": "925fe462",
   "metadata": {},
   "outputs": [],
   "source": [
    "import os\n",
    "import cv2\n",
    "import argparse\n",
    "from sklearn import svm\n",
    "from skimage import feature, exposure, color\n",
    "from skimage.feature import hog\n",
    "import matplotlib.pyplot as plt\n",
    "from PIL import Image\n",
    "from sklearn.model_selection import train_test_split\n",
    "from sklearn.metrics import classification_report,accuracy_score"
   ]
  },
  {
   "cell_type": "code",
   "execution_count": 15,
   "id": "aafdd27b",
   "metadata": {},
   "outputs": [],
   "source": [
    "# Resizes a image and maintains aspect ratio\n",
    "def maintain_aspect_ratio_resize(image, width=None, height=None, inter=cv2.INTER_AREA):\n",
    "    # Grab the image size and initialize dimensions\n",
    "    dim = None\n",
    "    (h, w) = image.shape[:2]\n",
    "\n",
    "    # Return original image if no need to resize\n",
    "    if width is None and height is None:\n",
    "        return image\n",
    "\n",
    "    # We are resizing height if width is none\n",
    "    if width is None:\n",
    "        # Calculate the ratio of the height and construct the dimensions\n",
    "        r = height / float(h)\n",
    "        dim = (int(w * r), height)\n",
    "    # We are resizing width if height is none\n",
    "    else:\n",
    "        # Calculate the ratio of the 0idth and construct the dimensions\n",
    "        r = width / float(w)\n",
    "        dim = (width, int(h * r))\n",
    "\n",
    "    # Return the resized image\n",
    "    return cv2.resize(image, dim, interpolation=inter)"
   ]
  },
  {
   "cell_type": "code",
   "execution_count": 46,
   "id": "0fea8fa3",
   "metadata": {},
   "outputs": [],
   "source": [
    "def hog_it_up(image):\n",
    "    fd, hog_image = hog(color.rgb2gray(image), orientations=8, pixels_per_cell=(8, 8),\n",
    "                    cells_per_block=(1, 1), channel_axis=None, visualize=True)\n",
    "#     hog_image_rescaled = exposure.rescale_intensity(hog_image, in_range=(0, 10))\n",
    "    hog_image_rescaled = exposure.rescale_intensity(hog_image, out_range=(0, 255)).astype(\"uint8\")\n",
    "\n",
    "    return fd, hog_image_rescaled"
   ]
  },
  {
   "cell_type": "code",
   "execution_count": 25,
   "id": "20faa87a",
   "metadata": {},
   "outputs": [],
   "source": [
    "x = 450\n",
    "y = 100\n",
    "h = 850\n",
    "w = 700\n",
    "frame_dim = (1920,1080)\n",
    "fps = 60\n",
    "hoggy_images = []\n",
    "def hog_the_video(input_path):\n",
    "    cap = cv2.VideoCapture(input_path)\n",
    "    instance_count = 0\n",
    "    next_frame = 0\n",
    "    count = 0\n",
    "    success = True\n",
    "    video_fds = []\n",
    "    video_images = []\n",
    "    while success:\n",
    "        success, frame = cap.read()\n",
    "        if count % fps == 0 and success:\n",
    "#             if frame.shape[0] > 1080 and frame.shape[1] > 1920:\n",
    "#                 frame = maintain_aspect_ratio_resize(frame.copy(), width=frame_dim[0], height=frame_dim[1])\n",
    "        \n",
    "            cropped_frame = frame.copy()[y:y+h, x:x+w]\n",
    "#             cropped_resized_frame = maintain_aspect_ratio_resize(cropped_frame, width=256)\n",
    "            \n",
    "            # TODO: test impacts of gaus blur\n",
    "            cropped_resized_blurred_frame = cv2.GaussianBlur(cropped_frame,(3,3),0)\n",
    "            \n",
    "#             cropped_blurred_frame_forced_size = cv2.resize(blur, (512, 512))\n",
    "\n",
    "            fd, hoggy_cropped_frame = hog_it_up(cropped_resized_blurred_frame)\n",
    "            hoggy_images.append(hoggy_cropped_frame)\n",
    "#             video_fds.append(fd)\n",
    "#             video_images.append(hoggy_cropped_frame)\n",
    "            video_images.append(cropped_resized_blurred_frame)\n",
    "\n",
    "        count+=1\n",
    "    \n",
    "    cap.release()\n",
    "    cv2.destroyAllWindows()\n",
    "    return video_fds, video_images\n"
   ]
  },
  {
   "cell_type": "code",
   "execution_count": 26,
   "id": "0a9aaf6d",
   "metadata": {},
   "outputs": [
    {
     "name": "stdout",
     "output_type": "stream",
     "text": [
      "video_path:  ./raw/baby/blanket1.mp4\n",
      "baby\n",
      "video_path:  ./raw/baby/blanket2.mp4\n",
      "baby\n",
      "video_path:  ./raw/baby/blanket3.mp4\n",
      "baby\n",
      "video_path:  ./raw/baby/blanket4.mp4\n",
      "baby\n",
      "video_path:  ./raw/baby/blanket5.mp4\n",
      "baby\n",
      "video_path:  ./raw/baby/blanket6.mp4\n",
      "baby\n",
      "video_path:  ./raw/baby/blanket7.mp4\n",
      "baby\n",
      "video_path:  ./raw/baby/blanket8.mp4\n",
      "baby\n",
      "video_path:  ./raw/baby/blanket9.mp4\n",
      "baby\n",
      "video_path:  ./raw/no_baby/nobaby1.mp4\n",
      "no_baby\n",
      "video_path:  ./raw/no_baby/nobaby2.mp4\n",
      "no_baby\n",
      "video_path:  ./raw/no_baby/nobaby3.mp4\n",
      "no_baby\n",
      "video_path:  ./raw/no_baby/nobaby4.mp4\n",
      "no_baby\n",
      "video_path:  ./raw/no_baby/nobaby5.mp4\n",
      "no_baby\n",
      "video_path:  ./raw/no_baby/nobaby6.mp4\n",
      "no_baby\n"
     ]
    }
   ],
   "source": [
    "### iterate over raw video inputs, select images throughout video, get the hog feature descriptors & images \n",
    "all_images = []\n",
    "all_fds = []\n",
    "all_labels = []\n",
    "video_paths = os.listdir(f\"./raw\")\n",
    "for path in video_paths:\n",
    "    all_videos = os.listdir(f\"raw/{path}\")\n",
    "    for video in all_videos:\n",
    "        video_path = f\"./raw/{path}/{video}\"\n",
    "        print('video_path: ', video_path)\n",
    "\n",
    "#         fds, images = hog_the_video(video_path)\n",
    "        fds, images = hog_the_video(video_path)\n",
    "    \n",
    "        print(path)\n",
    "        all_images = all_images + images\n",
    "        all_fds = all_fds + fds\n",
    "        all_labels = all_labels + [path] * len(images)"
   ]
  },
  {
   "cell_type": "code",
   "execution_count": null,
   "id": "a804e624",
   "metadata": {},
   "outputs": [],
   "source": [
    "# HOG IMAGE MODEL CLASSIFIER\n",
    "print('Training...')\n",
    "\n",
    "X_train, X_test, y_train, y_test = train_test_split(all_fds, all_labels, test_size=0.2, stratify=all_labels)\n",
    "print('test: ', len(X_train), len(X_test), len(y_train), len(y_test))\n",
    "\n",
    "clf = svm.SVC(probability=True)\n",
    "\n",
    "print('images, labels, fds: ', len(all_images), len(all_labels), len(all_fds))\n",
    "# print(len(all_fds[0]))\n",
    "clf.fit(X_train, y_train)"
   ]
  },
  {
   "cell_type": "code",
   "execution_count": 48,
   "id": "97f4ee65",
   "metadata": {},
   "outputs": [
    {
     "name": "stdout",
     "output_type": "stream",
     "text": [
      "shape:  (850, 700, 3)\n",
      "[[0 0 0 ... 0 0 0]\n",
      " [0 0 0 ... 0 0 0]\n",
      " [0 0 0 ... 0 0 0]\n",
      " ...\n",
      " [0 0 0 ... 0 0 0]\n",
      " [0 0 0 ... 0 0 0]\n",
      " [0 0 0 ... 0 0 0]]\n",
      "(68, 1785000)\n",
      "(1785000,)\n",
      "test:  54 14 54 14\n"
     ]
    },
    {
     "data": {
      "image/png": "[encoded data removed]",
      "text/plain": [
       "<Figure size 432x288 with 1 Axes>"
      ]
     },
     "metadata": {
      "needs_background": "light"
     },
     "output_type": "display_data"
    }
   ],
   "source": [
    "# RAW IMAGE MODEL CLASSIFIER\n",
    "import numpy as np\n",
    "\n",
    "# test_gray = color.rgb2gray(all_images[0])\n",
    "print('shape: ', all_images[0].shape)\n",
    "\n",
    "# from PIL import Image\n",
    "# im = Image.fromarray(hoggy_images[2])\n",
    "# im = im.convert('L')\n",
    "# im.save(\"your_file.png\")\n",
    "\n",
    "im = hog_it_up(all_images[3])[1]\n",
    "# im.convert('RGB')\n",
    "print(im)\n",
    "plt.imshow(im)\n",
    "im = Image.fromarray(im)\n",
    "im.save(\"your_file.png\")\n",
    "\n",
    "im = Image.fromarray(all_images[3])\n",
    "im.save(\"your_file2.png\")\n",
    "\n",
    "# plt.imshow(all_images[3])\n",
    "flat_data_arr = []\n",
    "for img in all_images:\n",
    "    flat_data_arr.append(img.flatten())\n",
    "    \n",
    "flat_data = np.array(flat_data_arr)\n",
    "print(flat_data.shape)\n",
    "print(flat_data[0].shape)\n",
    "\n",
    "\n",
    "X_train, X_test, y_train, y_test = train_test_split(flat_data, all_labels, test_size=0.2, stratify=all_labels)\n",
    "print('test: ', len(X_train), len(X_test), len(y_train), len(y_test))"
   ]
  },
  {
   "cell_type": "code",
   "execution_count": 8,
   "id": "57c82ef7",
   "metadata": {},
   "outputs": [
    {
     "name": "stdout",
     "output_type": "stream",
     "text": [
      "images, labels:  68 68\n",
      "310\n"
     ]
    },
    {
     "data": {
      "text/plain": [
       "GridSearchCV(estimator=SVC(probability=True),\n",
       "             param_grid={'C': [0.1, 1, 10, 100],\n",
       "                         'gamma': [0.0001, 0.001, 0.1, 1],\n",
       "                         'kernel': ['rbf', 'poly']})"
      ]
     },
     "execution_count": 8,
     "metadata": {},
     "output_type": "execute_result"
    }
   ],
   "source": [
    "from sklearn.model_selection import GridSearchCV\n",
    "\n",
    "param_grid = {'C':[0.1,1,10,100],'gamma':[0.0001,0.001,0.1,1],'kernel':['rbf','poly']}\n",
    "svc = svm.SVC(probability=True)\n",
    "model = GridSearchCV(svc, param_grid)\n",
    "\n",
    "clf = svm.SVC(probability=True)\n",
    "\n",
    "print('images, labels: ', len(all_images), len(all_labels))\n",
    "print(len(all_images[0]))\n",
    "model.fit(X_train, y_train)"
   ]
  },
  {
   "cell_type": "code",
   "execution_count": 26,
   "id": "f6c4a8da",
   "metadata": {},
   "outputs": [
    {
     "data": {
      "text/plain": [
       "{'C': 0.1, 'gamma': 0.0001, 'kernel': 'poly'}"
      ]
     },
     "execution_count": 26,
     "metadata": {},
     "output_type": "execute_result"
    }
   ],
   "source": [
    "model.best_params_"
   ]
  },
  {
   "cell_type": "code",
   "execution_count": 11,
   "id": "a32b4cc0",
   "metadata": {},
   "outputs": [
    {
     "name": "stdout",
     "output_type": "stream",
     "text": [
      "y_proba:  [[0.97445412 0.02554588]\n",
      " [0.06737374 0.93262626]\n",
      " [0.97412012 0.02587988]\n",
      " [0.97406685 0.02593315]\n",
      " [0.0678785  0.9321215 ]\n",
      " [0.97432558 0.02567442]\n",
      " [0.03957709 0.96042291]\n",
      " [0.93827725 0.06172275]\n",
      " [0.91477796 0.08522204]\n",
      " [0.06917004 0.93082996]\n",
      " [0.97145624 0.02854376]\n",
      " [0.97433275 0.02566725]\n",
      " [0.9738429  0.0261571 ]\n",
      " [0.04005408 0.95994592]]\n",
      "['baby' 'no_baby' 'baby' 'baby' 'no_baby' 'baby' 'no_baby' 'baby' 'baby'\n",
      " 'no_baby' 'baby' 'baby' 'baby' 'no_baby']\n",
      "Accuracy: 1.0\n",
      "\n",
      "\n",
      "              precision    recall  f1-score   support\n",
      "\n",
      "        baby       1.00      1.00      1.00         9\n",
      "     no_baby       1.00      1.00      1.00         5\n",
      "\n",
      "    accuracy                           1.00        14\n",
      "   macro avg       1.00      1.00      1.00        14\n",
      "weighted avg       1.00      1.00      1.00        14\n",
      "\n"
     ]
    }
   ],
   "source": [
    "y_pred = model.predict(X_test)\n",
    "y_proba = model.predict_proba(X_test)\n",
    "print('y_proba: ', y_proba)\n",
    "\n",
    "print(y_pred)\n",
    "\n",
    "print(\"Accuracy: \"+str(accuracy_score(y_test, y_pred)))\n",
    "print('\\n')\n",
    "print(classification_report(y_test, y_pred))"
   ]
  },
  {
   "cell_type": "code",
   "execution_count": null,
   "id": "c313e317",
   "metadata": {},
   "outputs": [],
   "source": [
    "import pickle\n",
    "\n",
    "final_clf = svm.SVC(probability=True, C=0.1, gamma=0.0001, kernel='poly')\n",
    "print(final_clf)\n",
    "print('len: ', len(all_images))\n",
    "final_clf.fit(flat_data, all_labels)\n",
    "\n",
    "with open('creepy_baby_model.pkl','wb') as f:\n",
    "    pickle.dump(final_clf,f)"
   ]
  }
 ],
 "metadata": {
  "kernelspec": {
   "display_name": "dlc-live",
   "language": "python",
   "name": "dlc-live"
  },
  "language_info": {
   "codemirror_mode": {
    "name": "ipython",
    "version": 3
   },
   "file_extension": ".py",
   "mimetype": "text/x-python",
   "name": "python",
   "nbconvert_exporter": "python",
   "pygments_lexer": "ipython3",
   "version": "3.7.11"
  }
 },
 "nbformat": 4,
 "nbformat_minor": 5
}
